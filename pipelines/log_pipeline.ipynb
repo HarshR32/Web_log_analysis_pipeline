{
 "cells": [
  {
   "cell_type": "code",
   "execution_count": 2,
   "id": "0cf709a0-91e0-4043-b36a-77d8c1754130",
   "metadata": {},
   "outputs": [],
   "source": [
    "import sys\n",
    "sys.path.insert(0,\"../\")"
   ]
  },
  {
   "cell_type": "code",
   "execution_count": 3,
   "id": "7a52860c-e386-4c8b-b6cd-bed6c44c5b5b",
   "metadata": {
    "editable": true,
    "slideshow": {
     "slide_type": ""
    },
    "tags": []
   },
   "outputs": [],
   "source": [
    "from pyspark.sql import SparkSession\n",
    "from config.config import CONFIG\n",
    "from etl.extract.extract import extract_raw_data\n",
    "from etl.transform import parseLogs, convertTimestamp, clean, aggregate, sessionize, categorizeEndpoint\n",
    "from etl.load.load import load_data"
   ]
  },
  {
   "cell_type": "code",
   "execution_count": 4,
   "id": "1693bdf2-06ef-476e-968b-4376da0bdfe3",
   "metadata": {
    "editable": true,
    "slideshow": {
     "slide_type": ""
    },
    "tags": []
   },
   "outputs": [],
   "source": [
    "def start_session(appname: str) -> SparkSession:\n",
    "    return SparkSession.builder.config(\"spark.driver.memory\", \"15g\").appName(appname).getOrCreate()"
   ]
  },
  {
   "cell_type": "code",
   "execution_count": 5,
   "id": "9ba870f6-e357-4b37-8ae6-043456a0d864",
   "metadata": {
    "editable": true,
    "slideshow": {
     "slide_type": ""
    },
    "tags": []
   },
   "outputs": [],
   "source": [
    "def stop_session(spark: SparkSession) -> None:\n",
    "    spark.stop()"
   ]
  },
  {
   "cell_type": "code",
   "execution_count": 6,
   "id": "cb2b55b3-d632-4505-9535-32a9fda947b7",
   "metadata": {
    "editable": true,
    "slideshow": {
     "slide_type": ""
    },
    "tags": []
   },
   "outputs": [],
   "source": [
    "def run_pipeline() -> None:\n",
    "    spark = start_session(CONFIG['app_name'])\n",
    "    raw_df = extract_raw_data(spark, CONFIG)\n",
    "    parsed_df = parseLogs.parse_logs(raw_df, CONFIG)\n",
    "    categorized_df = categorizeEndpoint.categorize_endpoint(parsed_df, CONFIG)\n",
    "    converted_df = convertTimestamp.convert_timestamp(categorized_df, CONFIG)\n",
    "    cleaned_df = clean.clean_data(converted_df)\n",
    "\n",
    "    sessions_df = sessionize.sessionize_data(cleaned_df, CONFIG)\n",
    "\n",
    "    traffic_df, error_df = aggregate.calculate_aggregates(cleaned_df)\n",
    "\n",
    "    load_data(cleaned_df, CONFIG['output']['cleaned_path'], CONFIG)\n",
    "    load_data(sessions_df, CONFIG['output']['sessionized_path'], CONFIG)\n",
    "    load_data(error_df, CONFIG['output']['error_analysis_path'], CONFIG)\n",
    "    load_data(traffic_df, CONFIG['output']['peak_traffic_path'], CONFIG)\n",
    "\n",
    "    stop_session(spark)"
   ]
  },
  {
   "cell_type": "code",
   "execution_count": 7,
   "id": "3922ba9c-ff08-409b-8c3f-9e32b7d7be2f",
   "metadata": {
    "editable": true,
    "slideshow": {
     "slide_type": ""
    },
    "tags": []
   },
   "outputs": [
    {
     "name": "stderr",
     "output_type": "stream",
     "text": [
      "25/03/19 15:39:53 WARN Utils: Your hostname, Harshs-MacBook-Pro.local resolves to a loopback address: 127.0.0.1; using 192.168.1.236 instead (on interface en0)\n",
      "25/03/19 15:39:53 WARN Utils: Set SPARK_LOCAL_IP if you need to bind to another address\n",
      "Setting default log level to \"WARN\".\n",
      "To adjust logging level use sc.setLogLevel(newLevel). For SparkR, use setLogLevel(newLevel).\n",
      "25/03/19 15:39:53 WARN NativeCodeLoader: Unable to load native-hadoop library for your platform... using builtin-java classes where applicable\n",
      "                                                                                \r"
     ]
    }
   ],
   "source": [
    "if __name__ == \"__main__\":\n",
    "    run_pipeline()"
   ]
  }
 ],
 "metadata": {
  "kernelspec": {
   "display_name": "projectsKernel",
   "language": "python",
   "name": "projectskernel"
  },
  "language_info": {
   "codemirror_mode": {
    "name": "ipython",
    "version": 3
   },
   "file_extension": ".py",
   "mimetype": "text/x-python",
   "name": "python",
   "nbconvert_exporter": "python",
   "pygments_lexer": "ipython3",
   "version": "3.12.7"
  }
 },
 "nbformat": 4,
 "nbformat_minor": 5
}
